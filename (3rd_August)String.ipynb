{
  "nbformat": 4,
  "nbformat_minor": 0,
  "metadata": {
    "colab": {
      "provenance": [],
      "authorship_tag": "ABX9TyP7DETxmifjhcZITFmdsgTX",
      "include_colab_link": true
    },
    "kernelspec": {
      "name": "python3",
      "display_name": "Python 3"
    },
    "language_info": {
      "name": "python"
    }
  },
  "cells": [
    {
      "cell_type": "markdown",
      "metadata": {
        "id": "view-in-github",
        "colab_type": "text"
      },
      "source": [
        "<a href=\"https://colab.research.google.com/github/akhitachandran/PYTHON/blob/main/(3rd_August)String.ipynb\" target=\"_parent\"><img src=\"https://colab.research.google.com/assets/colab-badge.svg\" alt=\"Open In Colab\"/></a>"
      ]
    },
    {
      "cell_type": "code",
      "execution_count": null,
      "metadata": {
        "colab": {
          "base_uri": "https://localhost:8080/"
        },
        "id": "fPnub4aL9n3t",
        "outputId": "964ace50-3798-48b7-b096-e7f4ae571478"
      },
      "outputs": [
        {
          "output_type": "stream",
          "name": "stdout",
          "text": [
            "Enter username: subject\n",
            "Enter password: python\n",
            "Login successful!\n"
          ]
        }
      ],
      "source": [
        "def login():\n",
        "   uname=input(\"Enter username: \");\n",
        "   pwd=input(\"Enter password: \");\n",
        "   if uname == username and pwd == password:\n",
        "      print(\"Login successful!\");\n",
        "   else:\n",
        "     print(\"Login failed\");\n",
        "\n",
        "\n",
        "\n",
        "username=\"subject\";\n",
        "password=\"python\";\n",
        "login();"
      ]
    },
    {
      "cell_type": "code",
      "source": [
        "username = \"subject\"\n",
        "passwd = \"12345678\"\n",
        "\n",
        "def login():\n",
        "    password = input(\"password should be 8 char long...\")\n",
        "    a = len(password)\n",
        "    if a >= 8:\n",
        "        uname = input(\"enter ur username...\")\n",
        "        if (uname == username and passwd == password):\n",
        "            print(\"login success\")\n",
        "        else:\n",
        "            print(\"inalid\")\n",
        "    else:\n",
        "        print(\"invalid password length..\")\n",
        "\n",
        "\n",
        "login()"
      ],
      "metadata": {
        "colab": {
          "base_uri": "https://localhost:8080/"
        },
        "id": "NK1K4__tE_1Q",
        "outputId": "fc9810ce-c59f-478f-8b3e-19caab306ac7"
      },
      "execution_count": null,
      "outputs": [
        {
          "output_type": "stream",
          "name": "stdout",
          "text": [
            "password should be 8 char long...12345\n",
            "invalid password length..\n"
          ]
        }
      ]
    },
    {
      "cell_type": "code",
      "source": [
        "a = \"HELLO WORLD\"\n",
        "#a = a.upper();\n",
        "#a = a.lower();\n",
        "print(\"hello\" not in a) # True\n",
        "#print('at' not in 'battle') # False\n"
      ],
      "metadata": {
        "colab": {
          "base_uri": "https://localhost:8080/"
        },
        "id": "tmJqEbJFIibJ",
        "outputId": "02b7d7c0-dbd9-43f3-dc3f-35d6192c0399"
      },
      "execution_count": null,
      "outputs": [
        {
          "output_type": "stream",
          "name": "stdout",
          "text": [
            "True\n"
          ]
        }
      ]
    },
    {
      "cell_type": "code",
      "source": [
        "string = \"Python is fun\"\n",
        "\n",
        "# 'is' separator is found\n",
        "print(string.partition('is '))\n",
        "\n",
        "# 'not' separator is not found\n",
        "print(string.partition('not '))\n",
        "\n",
        "string = \"Python is fun, isn't it\"\n",
        "\n",
        "# splits at first occurence of 'is'\n",
        "print(string.partition('is'))\n"
      ],
      "metadata": {
        "colab": {
          "base_uri": "https://localhost:8080/"
        },
        "id": "qsSr93VEJmtv",
        "outputId": "629e8442-0f99-4609-975d-54a5f624f550"
      },
      "execution_count": null,
      "outputs": [
        {
          "output_type": "stream",
          "name": "stdout",
          "text": [
            "('Python ', 'is ', 'fun')\n",
            "('Python is fun', '', '')\n",
            "('Python ', 'is', \" fun, isn't it\")\n"
          ]
        }
      ]
    },
    {
      "cell_type": "code",
      "source": [
        "song = 'cold, cold heart'\n",
        "\n",
        "# replacing 'cold' with 'hurt'\n",
        "print(song.replace('cold', 'hurt'))\n",
        "\n",
        "song = 'Let it be, let it be, let it be, let it be'\n",
        "\n",
        "# replacing only two occurrences of 'let'\n",
        "print(song.replace('let', \"don't let\",10000000))"
      ],
      "metadata": {
        "colab": {
          "base_uri": "https://localhost:8080/"
        },
        "id": "3bEaIzWzJ9r5",
        "outputId": "74fa82aa-447e-4688-90ed-554051f5ffac"
      },
      "execution_count": null,
      "outputs": [
        {
          "output_type": "stream",
          "name": "stdout",
          "text": [
            "hurt, hurt heart\n",
            "Let it be, don't let it be, don't let it be, don't let it be\n"
          ]
        }
      ]
    },
    {
      "cell_type": "code",
      "source": [
        "name=input(\"enter five names separated by spaces: \")\n",
        "sname=name.split()\n",
        "sorted=sorted(sname)\n",
        "print(\"names:\",sorted)"
      ],
      "metadata": {
        "id": "8UBj2O70K9b5"
      },
      "execution_count": null,
      "outputs": []
    },
    {
      "cell_type": "markdown",
      "source": [
        "accept 5 student names from user , sort in alphabetical order and print the names"
      ],
      "metadata": {
        "id": "xUInEuyHOhUP"
      }
    },
    {
      "cell_type": "code",
      "source": [
        "name=[];\n",
        "n=1;\n",
        "for i in range(5):\n",
        "  name.insert(i,input(\"enter name: \"));\n",
        "\n",
        "name.sort();\n",
        "\n",
        "for i in name:\n",
        "  print(\"Name: \",i);\n",
        "\n"
      ],
      "metadata": {
        "id": "Yd2cvX11O3GH",
        "colab": {
          "base_uri": "https://localhost:8080/"
        },
        "outputId": "1d75224e-09c4-4c4f-c533-d8bd9b5fd850"
      },
      "execution_count": 1,
      "outputs": [
        {
          "output_type": "stream",
          "name": "stdout",
          "text": [
            "enter name: M\n",
            "enter name: R\n",
            "enter name: A\n",
            "enter name: C\n",
            "enter name: J\n",
            "Name:  A\n",
            "Name:  C\n",
            "Name:  J\n",
            "Name:  M\n",
            "Name:  R\n"
          ]
        }
      ]
    },
    {
      "cell_type": "code",
      "source": [],
      "metadata": {
        "id": "9ItAxeIgCkCp"
      },
      "execution_count": null,
      "outputs": []
    }
  ]
}