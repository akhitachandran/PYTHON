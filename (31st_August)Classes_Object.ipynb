{
  "nbformat": 4,
  "nbformat_minor": 0,
  "metadata": {
    "colab": {
      "provenance": [],
      "authorship_tag": "ABX9TyPtSPyEIz7vB44Aq64yJScK",
      "include_colab_link": true
    },
    "kernelspec": {
      "name": "python3",
      "display_name": "Python 3"
    },
    "language_info": {
      "name": "python"
    }
  },
  "cells": [
    {
      "cell_type": "markdown",
      "metadata": {
        "id": "view-in-github",
        "colab_type": "text"
      },
      "source": [
        "<a href=\"https://colab.research.google.com/github/akhitachandran/PYTHON/blob/main/(31st_August)Classes_Object.ipynb\" target=\"_parent\"><img src=\"https://colab.research.google.com/assets/colab-badge.svg\" alt=\"Open In Colab\"/></a>"
      ]
    },
    {
      "cell_type": "code",
      "execution_count": 3,
      "metadata": {
        "id": "78yL9xvf9CvM",
        "colab": {
          "base_uri": "https://localhost:8080/"
        },
        "outputId": "b54bf3a5-0569-4eca-bfff-c5c4e07399af"
      },
      "outputs": [
        {
          "output_type": "stream",
          "name": "stdout",
          "text": [
            "Enter no.1: 10\n",
            "Enter no.2: 3\n",
            "Addition 13\n",
            "Subtract 7\n",
            "Multiplication 30\n",
            "Division 3.3333333333333335\n"
          ]
        }
      ],
      "source": [
        "class calc:\n",
        "\n",
        " def __init__(self,a,b):\n",
        "   self.no1=a\n",
        "   self.no2=b\n",
        " def add(self):\n",
        "  print(\"Addition\", (self.no1 +self.no2))\n",
        "\n",
        " def sub(self):\n",
        "  print(\"Subtract\", (self.no1 -self.no2))\n",
        "\n",
        " def mul(self):\n",
        "  print(\"Multiplication\", (self .no1*self.no2))\n",
        "\n",
        " def div(self):\n",
        "  print(\"Division\", (self.no1 /self.no2))\n",
        "\n",
        "x=int(input(\"Enter no.1: \"))\n",
        "\n",
        "y=int(input(\"Enter no.2: \"))\n",
        "\n",
        "c1=calc(x,y)\n",
        "\n",
        "c1.add()\n",
        "\n",
        "c1.sub()\n",
        "\n",
        "c1.mul()\n",
        "\n",
        "c1.div()\n"
      ]
    },
    {
      "cell_type": "code",
      "source": [
        "class calc:\n",
        "\n",
        " def __init__(self,a,b):\n",
        "   self.no1=a\n",
        "   self.no2=b\n",
        " def add(self):\n",
        "  print(\"Addition\", (self.no1 +self.no2))\n",
        "\n",
        " def sub(self):\n",
        "  print(\"Subtract\", (self.no1 -self.no2))\n",
        "\n",
        " def mul(self):\n",
        "  print(\"Multiplication\", (self .no1*self.no2))\n",
        "\n",
        " def div(self):\n",
        "  print(\"Division\", (self.no1 /self.no2))\n",
        "\n",
        " def mod(self):\n",
        "  print(\"Modulus\", (self.no1 %self.no2))\n",
        "\n",
        "\n",
        "x=int(input(\"Enter choice: \"))\n",
        "\n",
        "c1=calc(10,5)\n",
        "\n",
        "if x==1:\n",
        "  c1.add()\n",
        "elif x==2:\n",
        "  c1.sub()\n",
        "elif x==3:\n",
        "  c1.mul()\n",
        "elif x==4:\n",
        "  c1.div()\n",
        "elif x==5:\n",
        "  c1.mod()\n",
        "else:\n",
        "  print(\"Enter valid number!\")"
      ],
      "metadata": {
        "colab": {
          "base_uri": "https://localhost:8080/"
        },
        "id": "1riUqIgxm5R6",
        "outputId": "3499abbf-bb03-40d6-bc4c-c5130c4eb3dc"
      },
      "execution_count": 4,
      "outputs": [
        {
          "output_type": "stream",
          "name": "stdout",
          "text": [
            "Enter choice: 5\n",
            "Modulus 0\n"
          ]
        }
      ]
    }
  ]
}