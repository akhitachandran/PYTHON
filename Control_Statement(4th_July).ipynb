{
  "nbformat": 4,
  "nbformat_minor": 0,
  "metadata": {
    "colab": {
      "provenance": [],
      "authorship_tag": "ABX9TyOGa5xorGYIYYHV0jm6QNnD",
      "include_colab_link": true
    },
    "kernelspec": {
      "name": "python3",
      "display_name": "Python 3"
    },
    "language_info": {
      "name": "python"
    }
  },
  "cells": [
    {
      "cell_type": "markdown",
      "metadata": {
        "id": "view-in-github",
        "colab_type": "text"
      },
      "source": [
        "<a href=\"https://colab.research.google.com/github/akhitachandran/PYTHON/blob/main/Control_Statement(4th_July).ipynb\" target=\"_parent\"><img src=\"https://colab.research.google.com/assets/colab-badge.svg\" alt=\"Open In Colab\"/></a>"
      ]
    },
    {
      "cell_type": "markdown",
      "source": [
        "Nested while loop"
      ],
      "metadata": {
        "id": "M1EiqhZJg8S7"
      }
    },
    {
      "cell_type": "code",
      "source": [
        "p=1;\n",
        "\n",
        "while p<10: #rows\n",
        "   q=1;\n",
        "   while q<=p:#column\n",
        "     print(p,end=\" \")\n",
        "     q+=1\n",
        "   p+=1\n",
        "   print(\" \");"
      ],
      "metadata": {
        "id": "4QHKsWfTP9tH",
        "colab": {
          "base_uri": "https://localhost:8080/"
        },
        "outputId": "80412127-edfd-4194-fd91-952800161c87"
      },
      "execution_count": null,
      "outputs": [
        {
          "output_type": "stream",
          "name": "stdout",
          "text": [
            "1  \n",
            "2 2  \n",
            "3 3 3  \n",
            "4 4 4 4  \n",
            "5 5 5 5 5  \n",
            "6 6 6 6 6 6  \n",
            "7 7 7 7 7 7 7  \n",
            "8 8 8 8 8 8 8 8  \n",
            "9 9 9 9 9 9 9 9 9  \n"
          ]
        }
      ]
    },
    {
      "cell_type": "markdown",
      "source": [
        "Control statement"
      ],
      "metadata": {
        "id": "IqB7c9gykZLQ"
      }
    },
    {
      "cell_type": "code",
      "source": [
        " for num in range(10):\n",
        "  if num>5:\n",
        "    print(\"stop processing\");\n",
        "    break\n",
        "  print(num);"
      ],
      "metadata": {
        "colab": {
          "base_uri": "https://localhost:8080/"
        },
        "id": "qRcM3t39kcBp",
        "outputId": "67f5aafe-42b0-448d-bb82-6a8c77cbf0ba"
      },
      "execution_count": null,
      "outputs": [
        {
          "output_type": "stream",
          "name": "stdout",
          "text": [
            "0\n",
            "1\n",
            "2\n",
            "3\n",
            "4\n",
            "5\n",
            "stop processing\n"
          ]
        }
      ]
    },
    {
      "cell_type": "code",
      "source": [
        "#print even numbers\n",
        "\n",
        "for num in range(10):\n",
        "   if num%2!=0:\n",
        "    print(\"skip\");\n",
        "    continue\n",
        "   print(num);"
      ],
      "metadata": {
        "colab": {
          "base_uri": "https://localhost:8080/"
        },
        "id": "MHRGzggTldKM",
        "outputId": "78a0788a-d122-4bb0-b59e-5fb470516b24"
      },
      "execution_count": null,
      "outputs": [
        {
          "output_type": "stream",
          "name": "stdout",
          "text": [
            "0\n",
            "skip\n",
            "2\n",
            "skip\n",
            "4\n",
            "skip\n",
            "6\n",
            "skip\n",
            "8\n",
            "skip\n"
          ]
        }
      ]
    }
  ]
}