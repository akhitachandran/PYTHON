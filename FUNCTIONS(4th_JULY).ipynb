{
  "nbformat": 4,
  "nbformat_minor": 0,
  "metadata": {
    "colab": {
      "provenance": [],
      "authorship_tag": "ABX9TyP0HKFetbXnDM/2yj9JG5/y",
      "include_colab_link": true
    },
    "kernelspec": {
      "name": "python3",
      "display_name": "Python 3"
    },
    "language_info": {
      "name": "python"
    }
  },
  "cells": [
    {
      "cell_type": "markdown",
      "metadata": {
        "id": "view-in-github",
        "colab_type": "text"
      },
      "source": [
        "<a href=\"https://colab.research.google.com/github/akhitachandran/PYTHON/blob/main/FUNCTIONS(4th_JULY).ipynb\" target=\"_parent\"><img src=\"https://colab.research.google.com/assets/colab-badge.svg\" alt=\"Open In Colab\"/></a>"
      ]
    },
    {
      "cell_type": "code",
      "source": [
        "def"
      ],
      "metadata": {
        "id": "ZnlWUVUIFqc_"
      },
      "execution_count": null,
      "outputs": []
    },
    {
      "cell_type": "code",
      "source": [
        "def add(a,b):\n",
        "    print(a+b)\n",
        "\n",
        "add(10,20);"
      ],
      "metadata": {
        "colab": {
          "base_uri": "https://localhost:8080/"
        },
        "id": "8z7lt_kGwbcH",
        "outputId": "cdd2330a-18c3-4f9b-fc33-d158b4d1a01e"
      },
      "execution_count": null,
      "outputs": [
        {
          "metadata": {
            "tags": null
          },
          "name": "stdout",
          "output_type": "stream",
          "text": [
            "30\n"
          ]
        }
      ]
    },
    {
      "cell_type": "code",
      "source": [
        "def print_num(a):\n",
        "   for num in range(a):\n",
        "      print(num)\n",
        "\n",
        "print_num(11);"
      ],
      "metadata": {
        "colab": {
          "base_uri": "https://localhost:8080/"
        },
        "id": "-uOQjveMxGQd",
        "outputId": "e8b39ce2-43e6-4ad3-b1f8-65eb002a7e39"
      },
      "execution_count": null,
      "outputs": [
        {
          "output_type": "stream",
          "name": "stdout",
          "text": [
            "0\n",
            "1\n",
            "2\n",
            "3\n",
            "4\n",
            "5\n",
            "6\n",
            "7\n",
            "8\n",
            "9\n",
            "10\n"
          ]
        }
      ]
    },
    {
      "cell_type": "code",
      "source": [
        "def admission_process():\n",
        "   course=input(\"Enter course name: \");\n",
        "   if course==\"BSCIT\":\n",
        "     perc=int(input(\"Enter percentage: \"));\n",
        "     sub=input(\"Enter subject name: \");\n",
        "     if sub==\"Maths\" and perc>=45:\n",
        "       print(\"eligible for admission \");\n",
        "     else:\n",
        "       print(\"not eligible\");\n",
        "   else:\n",
        "      print(\"enter valid name\");\n",
        "\n",
        "admission_process()"
      ],
      "metadata": {
        "colab": {
          "base_uri": "https://localhost:8080/"
        },
        "id": "8iIf2xCgy3SA",
        "outputId": "eb3d5a5b-b30f-43da-898e-92480f3e25f0"
      },
      "execution_count": null,
      "outputs": [
        {
          "output_type": "stream",
          "name": "stdout",
          "text": [
            "Enter course name: BSCIT\n",
            "Enter percentage: 70\n",
            "Enter subject name: Maths\n",
            "eligible for admission \n"
          ]
        }
      ]
    }
  ]
}