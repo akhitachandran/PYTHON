{
  "nbformat": 4,
  "nbformat_minor": 0,
  "metadata": {
    "colab": {
      "provenance": [],
      "authorship_tag": "ABX9TyPIwTUjmlHm3gnr36un4zUs",
      "include_colab_link": true
    },
    "kernelspec": {
      "name": "python3",
      "display_name": "Python 3"
    },
    "language_info": {
      "name": "python"
    }
  },
  "cells": [
    {
      "cell_type": "markdown",
      "metadata": {
        "id": "view-in-github",
        "colab_type": "text"
      },
      "source": [
        "<a href=\"https://colab.research.google.com/github/akhitachandran/PYTHON/blob/main/(29th_Aug)Dictionary(2).ipynb\" target=\"_parent\"><img src=\"https://colab.research.google.com/assets/colab-badge.svg\" alt=\"Open In Colab\"/></a>"
      ]
    },
    {
      "cell_type": "code",
      "execution_count": 1,
      "metadata": {
        "id": "0dr56rp4fqtj",
        "colab": {
          "base_uri": "https://localhost:8080/"
        },
        "outputId": "dfdc8e2e-e70c-4dd6-eb4b-69d3bc76d185"
      },
      "outputs": [
        {
          "output_type": "stream",
          "name": "stdout",
          "text": [
            "{'S1': 'C', 'S2': 'DLA', 'S3': 'MM'}\n",
            "{'S1': 'CN', 'S2': 'Python', 'S3': 'Os'}\n",
            "{'S1': 'Iot', 'S2': 'Java'}\n",
            "dict_values(['C', 'DLA', 'MM'])\n"
          ]
        }
      ],
      "source": [
        "bscit={\"FY\":{\"S1\":\"C\",\"S2\":\"DLA\",\"S3\":\"MM\"}, \"SY\":{\"S1\":\"CN\",\"S2\":\"Python\",\"S3\":\"Os\"},\"TY\":{\"S1\":\"Iot\",\"S2\":\"Java\"}}\n",
        "a=bscit[\"FY\"]\n",
        "b=bscit[\"SY\"]\n",
        "c=bscit[\"TY\"]\n",
        "print(a)\n",
        "print(b)\n",
        "print(c)\n",
        "print(bscit[\"FY\"].values())\n",
        "bscit[\"FY\"][\"S1\"]=\"Python\";"
      ]
    },
    {
      "cell_type": "code",
      "source": [
        "bscit={\"FY\":{\"Sem1\":{\"S1\":\"C\",\"S2\":\"DBMS\"},\"Sem2\":{\"S1\":\"C++\",\"S2\":\"MPMC\"}},\"SY\":{\"Sem3\":{\"S1\":\"OS\",\"S2\":\"DS\"},\"Sem4\":{\"S1\":\"Java\",\"S2\":\"Maths\"}},\n",
        "\"TY\":{\"Sem5\":{\"S1\":\"IoT\",\"S2\":\"AI\"},\"Sem6\":{\"S1\":\"History\",\"S2\":\"Geography\"}}\n",
        "}\n",
        "print(bscit[\"SY\"])\n",
        "bscit[\"TY\"][\"Sem6\"][\"S2\"]=\"English\"\n",
        "print(bscit[\"TY\"])\n",
        "\n",
        "del bscit[\"FY\"][\"Sem1\"]\n",
        "print(bscit)\n",
        "\n",
        "for sub in bscit[\"FY\"][\"Sem2\"].values():\n",
        "  print(sub);"
      ],
      "metadata": {
        "colab": {
          "base_uri": "https://localhost:8080/"
        },
        "id": "udYlYKoxkyHJ",
        "outputId": "380f1860-1cbe-486f-d67f-022aa14d000c"
      },
      "execution_count": 4,
      "outputs": [
        {
          "output_type": "stream",
          "name": "stdout",
          "text": [
            "{'Sem3': {'S1': 'OS', 'S2': 'DS'}, 'Sem4': {'S1': 'Java', 'S2': 'Maths'}}\n",
            "{'Sem5': {'S1': 'IoT', 'S2': 'AI'}, 'Sem6': {'S1': 'History', 'S2': 'English'}}\n",
            "{'FY': {'Sem2': {'S1': 'C++', 'S2': 'MPMC'}}, 'SY': {'Sem3': {'S1': 'OS', 'S2': 'DS'}, 'Sem4': {'S1': 'Java', 'S2': 'Maths'}}, 'TY': {'Sem5': {'S1': 'IoT', 'S2': 'AI'}, 'Sem6': {'S1': 'History', 'S2': 'English'}}}\n",
            "C++\n",
            "MPMC\n"
          ]
        }
      ]
    }
  ]
}