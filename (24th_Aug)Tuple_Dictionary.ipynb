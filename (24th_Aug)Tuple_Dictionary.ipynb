{
  "nbformat": 4,
  "nbformat_minor": 0,
  "metadata": {
    "colab": {
      "provenance": [],
      "authorship_tag": "ABX9TyOjBDCnHIMo2Oa7tCjLTV81",
      "include_colab_link": true
    },
    "kernelspec": {
      "name": "python3",
      "display_name": "Python 3"
    },
    "language_info": {
      "name": "python"
    }
  },
  "cells": [
    {
      "cell_type": "markdown",
      "metadata": {
        "id": "view-in-github",
        "colab_type": "text"
      },
      "source": [
        "<a href=\"https://colab.research.google.com/github/akhitachandran/PYTHON/blob/main/(24th_Aug)Tuple_Dictionary.ipynb\" target=\"_parent\"><img src=\"https://colab.research.google.com/assets/colab-badge.svg\" alt=\"Open In Colab\"/></a>"
      ]
    },
    {
      "cell_type": "code",
      "execution_count": null,
      "metadata": {
        "colab": {
          "base_uri": "https://localhost:8080/"
        },
        "id": "JBytHC9IG1AT",
        "outputId": "9a19da70-68b2-4ce0-d810-5956a16593bc"
      },
      "outputs": [
        {
          "output_type": "execute_result",
          "data": {
            "text/plain": [
              "(0, 1, 4, 9, 16, 25, 36, 49, 64, 81)"
            ]
          },
          "metadata": {},
          "execution_count": 8
        }
      ],
      "source": [
        "tuple(x**2 for x in range(10))"
      ]
    },
    {
      "cell_type": "code",
      "source": [
        "tuple(x**2 for x in range(0,20,2) )"
      ],
      "metadata": {
        "colab": {
          "base_uri": "https://localhost:8080/"
        },
        "id": "vgwTneyCJnnk",
        "outputId": "56c41c22-b22d-4892-99a1-b17ad8c52afa"
      },
      "execution_count": null,
      "outputs": [
        {
          "output_type": "execute_result",
          "data": {
            "text/plain": [
              "(0, 4, 16, 36, 64, 100, 144, 196, 256, 324)"
            ]
          },
          "metadata": {},
          "execution_count": 7
        }
      ]
    },
    {
      "cell_type": "code",
      "source": [
        "tuple(5*x for x in range(1,11))\n"
      ],
      "metadata": {
        "colab": {
          "base_uri": "https://localhost:8080/"
        },
        "id": "p65jXuOmLFYl",
        "outputId": "c66b5ef2-877d-417d-9b95-9a6ace4c1af9"
      },
      "execution_count": null,
      "outputs": [
        {
          "output_type": "execute_result",
          "data": {
            "text/plain": [
              "(5, 10, 15, 20, 25, 30, 35, 40, 45, 50)"
            ]
          },
          "metadata": {},
          "execution_count": 11
        }
      ]
    },
    {
      "cell_type": "code",
      "source": [
        "t1=(1,2,3,5,6,7,9)\n",
        "len(t1)"
      ],
      "metadata": {
        "colab": {
          "base_uri": "https://localhost:8080/"
        },
        "id": "eK_-EgPaL12H",
        "outputId": "8ea53c38-b0d1-4e6e-d766-df63c88797a2"
      },
      "execution_count": null,
      "outputs": [
        {
          "output_type": "execute_result",
          "data": {
            "text/plain": [
              "7"
            ]
          },
          "metadata": {},
          "execution_count": 12
        }
      ]
    },
    {
      "cell_type": "markdown",
      "source": [
        "**DICTIONARY**"
      ],
      "metadata": {
        "id": "9Lj5szpjQE6M"
      }
    },
    {
      "cell_type": "code",
      "source": [
        "stud={\n",
        "    \"rollno\":123,\n",
        "    \"name\":\"ottawa\",\n",
        "    \"email\":\"london@gmail.com\"\n",
        "}\n",
        "print(stud)\n",
        "stud[111]=2345678\n",
        "print(stud)\n",
        "del stud[111]\n",
        "print(stud)"
      ],
      "metadata": {
        "colab": {
          "base_uri": "https://localhost:8080/"
        },
        "id": "-wB0ABkOPMnt",
        "outputId": "72a84f6c-3868-4b07-a2c9-721c98b7f4ce"
      },
      "execution_count": null,
      "outputs": [
        {
          "output_type": "stream",
          "name": "stdout",
          "text": [
            "{'rollno': 123, 'name': 'ottawa', 'email': 'london@gmail.com'}\n",
            "{'rollno': 123, 'name': 'ottawa', 'email': 'london@gmail.com', 111: 2345678}\n",
            "{'rollno': 123, 'name': 'ottawa', 'email': 'london@gmail.com'}\n"
          ]
        }
      ]
    },
    {
      "cell_type": "code",
      "source": [
        "Galaxy_M25={\n",
        "    \"Brand\":\"Samsung\",\n",
        "    (\"RAM\",\"memory\"):([\"6gb\",\"8gb\"],[\"128gb\",\"256gb\"]),\n",
        "    \"os\":\"android14\",\n",
        "    \"camera\":\"50mp\"\n",
        "}\n",
        "print(Galaxy_M25)"
      ],
      "metadata": {
        "colab": {
          "base_uri": "https://localhost:8080/"
        },
        "id": "6aYTMwyWSF6U",
        "outputId": "34c5bf45-0cca-46e4-f7d7-04fa1ed7d8c9"
      },
      "execution_count": null,
      "outputs": [
        {
          "output_type": "stream",
          "name": "stdout",
          "text": [
            "{'Brand': 'Samsung', ('RAM', 'memory'): (['6gb', '8gb'], ['128gb', '256gb']), 'os': 'android14', 'camera': '50mp'}\n"
          ]
        }
      ]
    },
    {
      "cell_type": "code",
      "source": [
        "bookmyshow = {\n",
        "    \"city\" : [\"mum\",\"delhi\",\"navi mum\", \"thane\"],\n",
        "    \"movies\" : [\"stree2\",\"Alien\",\"khel\",\"vedaa\"],\n",
        "    (\"dates\",\"place\",\"showtime\") : ([24,25,26],[\"pvr\",\"cinemax\"],[4.15,6.30,11.30]),\n",
        "    \"seats\" : [\"Platinum\",\"Gold\"],\n",
        "    (\"ticket_charges\",\"Convenience_fees\",\"Sub_total\") : [\"Gold:K-7,K-8\",47.20,447.20]\n",
        "}\n",
        "print(bookmyshow)\n"
      ],
      "metadata": {
        "id": "NJlt_d1nTojN",
        "colab": {
          "base_uri": "https://localhost:8080/"
        },
        "outputId": "aead878f-cdf2-4ce5-ff07-1d8e8611c6ab"
      },
      "execution_count": 2,
      "outputs": [
        {
          "output_type": "stream",
          "name": "stdout",
          "text": [
            "{'city': ['mum', 'delhi', 'navi mum', 'thane'], 'movies': ['stree2', 'Alien', 'khel', 'vedaa'], ('dates', 'place', 'showtime'): ([24, 25, 26], ['pvr', 'cinemax'], [4.15, 6.3, 11.3]), 'seats': ['Platinum', 'Gold'], ('ticket_charges', 'Convenience_fees', 'Sub_total'): ['Gold:K-7,K-8', 47.2, 447.2]}\n"
          ]
        }
      ]
    }
  ]
}