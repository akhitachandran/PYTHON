{
  "nbformat": 4,
  "nbformat_minor": 0,
  "metadata": {
    "colab": {
      "provenance": [],
      "authorship_tag": "ABX9TyPFPTMFrwfihqwP7qHfdAF2",
      "include_colab_link": true
    },
    "kernelspec": {
      "name": "python3",
      "display_name": "Python 3"
    },
    "language_info": {
      "name": "python"
    }
  },
  "cells": [
    {
      "cell_type": "markdown",
      "metadata": {
        "id": "view-in-github",
        "colab_type": "text"
      },
      "source": [
        "<a href=\"https://colab.research.google.com/github/akhitachandran/PYTHON/blob/main/(1st_Aug).ipynb\" target=\"_parent\"><img src=\"https://colab.research.google.com/assets/colab-badge.svg\" alt=\"Open In Colab\"/></a>"
      ]
    },
    {
      "cell_type": "code",
      "execution_count": null,
      "metadata": {
        "id": "JnNc3eySv0eF",
        "colab": {
          "base_uri": "https://localhost:8080/"
        },
        "outputId": "690b35aa-1243-44f1-d465-0f6de577b77b"
      },
      "outputs": [
        {
          "output_type": "stream",
          "name": "stdout",
          "text": [
            "G\n",
            "o\n",
            " \n",
            "S\n",
            "p\n",
            "o\n",
            "t\n",
            " \n",
            "G\n",
            "o\n"
          ]
        }
      ],
      "source": [
        "for achar in \"Go Spot Go\":\n",
        "   print(achar)"
      ]
    },
    {
      "cell_type": "code",
      "source": [
        "s='python'\n",
        "for ch in s:\n",
        "  print(\"hi\");"
      ],
      "metadata": {
        "colab": {
          "base_uri": "https://localhost:8080/"
        },
        "id": "CzUoLRE524jc",
        "outputId": "805933a1-f5ea-44f9-cbdf-2cd9807d8c00"
      },
      "execution_count": null,
      "outputs": [
        {
          "output_type": "stream",
          "name": "stdout",
          "text": [
            "hi\n",
            "hi\n",
            "hi\n",
            "hi\n",
            "hi\n",
            "hi\n"
          ]
        }
      ]
    },
    {
      "cell_type": "code",
      "source": [
        "s='python rocks'\n",
        "print(s[::-1])"
      ],
      "metadata": {
        "colab": {
          "base_uri": "https://localhost:8080/"
        },
        "id": "eI_VSaGX38Ox",
        "outputId": "f34e8386-2cac-45e8-e512-83a4dc2d1472"
      },
      "execution_count": null,
      "outputs": [
        {
          "output_type": "stream",
          "name": "stdout",
          "text": [
            "skcor nohtyp\n"
          ]
        }
      ]
    },
    {
      "cell_type": "code",
      "source": [
        "s=\"python rocks\"\n",
        "a=\"hello world\"\n",
        "print(a[0::2]); #:: counts all indexes till last\n",
        "print(s[0::2]); #even indexes\n",
        "print(a[:-1:])  #all indexes except -1\n",
        "print(a[:1:-1])"
      ],
      "metadata": {
        "colab": {
          "base_uri": "https://localhost:8080/"
        },
        "id": "8OILZkLB47b-",
        "outputId": "7567a9ae-b868-4a64-aafc-a27b862f2653"
      },
      "execution_count": null,
      "outputs": [
        {
          "output_type": "stream",
          "name": "stdout",
          "text": [
            "hlowrd\n",
            "pto ok\n",
            "hello worl\n",
            "dlrow oll\n"
          ]
        }
      ]
    },
    {
      "cell_type": "code",
      "source": [
        "L1=[10,20,30]\n",
        "print(L1[0]);\n",
        "L1[0]=100\n",
        "print(L1[0]);"
      ],
      "metadata": {
        "colab": {
          "base_uri": "https://localhost:8080/"
        },
        "id": "lcVnvWBj8KVC",
        "outputId": "d9b6291f-5cbf-4b78-85d6-dcfaa8e87172"
      },
      "execution_count": null,
      "outputs": [
        {
          "output_type": "stream",
          "name": "stdout",
          "text": [
            "10\n",
            "100\n"
          ]
        }
      ]
    },
    {
      "cell_type": "code",
      "source": [
        "S=\"hello\";\n",
        "print(S[0])\n",
        "S1=\"T\"+S[1:]\n",
        "print(S1)   #string is immutable"
      ],
      "metadata": {
        "colab": {
          "base_uri": "https://localhost:8080/"
        },
        "id": "78UnsGGc9EzN",
        "outputId": "b3a997de-0c48-46fa-9e5d-8f56ffe7fbef"
      },
      "execution_count": null,
      "outputs": [
        {
          "output_type": "stream",
          "name": "stdout",
          "text": [
            "h\n",
            "Tello\n"
          ]
        }
      ]
    },
    {
      "cell_type": "code",
      "source": [
        "\n",
        "def search(a):\n",
        "   print(a.count('h'));\n",
        "   print(a.find('h'));\n",
        "\n",
        "\n",
        "s=\"Raheja College\";\n",
        "x=\"hello\";\n",
        "search(s);\n",
        "search(x);"
      ],
      "metadata": {
        "colab": {
          "base_uri": "https://localhost:8080/"
        },
        "id": "07z6ZooK-ZL6",
        "outputId": "eaa16215-ac5c-4f1e-baef-66262849d80b"
      },
      "execution_count": null,
      "outputs": [
        {
          "output_type": "stream",
          "name": "stdout",
          "text": [
            "1\n",
            "2\n",
            "1\n",
            "0\n"
          ]
        }
      ]
    },
    {
      "cell_type": "code",
      "source": [
        "def test(s):\n",
        "   count=0;\n",
        "   for alpha in S:\n",
        "      if alpha==\"e\":\n",
        "         count=count+1;\n",
        "   print(count)\n",
        "\n",
        "\n",
        "S=\"Raheja college\"\n",
        "test(S);"
      ],
      "metadata": {
        "colab": {
          "base_uri": "https://localhost:8080/"
        },
        "id": "nN6wSMtGDqQ4",
        "outputId": "f81c04f6-4c6d-4338-e6a3-c301fd7d03e0"
      },
      "execution_count": null,
      "outputs": [
        {
          "output_type": "stream",
          "name": "stdout",
          "text": [
            "3\n"
          ]
        }
      ]
    }
  ]
}