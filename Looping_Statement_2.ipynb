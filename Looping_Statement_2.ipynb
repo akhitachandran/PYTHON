{
  "nbformat": 4,
  "nbformat_minor": 0,
  "metadata": {
    "colab": {
      "provenance": [],
      "authorship_tag": "ABX9TyPblQ+yBl0QLEhUTarK8VXF"
    },
    "kernelspec": {
      "name": "python3",
      "display_name": "Python 3"
    },
    "language_info": {
      "name": "python"
    }
  },
  "cells": [
    {
      "cell_type": "code",
      "execution_count": null,
      "metadata": {
        "colab": {
          "base_uri": "https://localhost:8080/"
        },
        "id": "_aPg77WrBDCH",
        "outputId": "791ed174-6ad9-4152-cdaa-4782497d29a1"
      },
      "outputs": [
        {
          "output_type": "stream",
          "name": "stdout",
          "text": [
            "Enter number: 5\n",
            "5 x 1 = 5\n",
            "5 x 2 = 10\n",
            "5 x 3 = 15\n",
            "5 x 4 = 20\n",
            "5 x 5 = 25\n",
            "5 x 6 = 30\n",
            "5 x 7 = 35\n",
            "5 x 8 = 40\n",
            "5 x 9 = 45\n",
            "5 x 10 = 50\n"
          ]
        }
      ],
      "source": [
        "\n",
        "num=int(input(\"Enter number: \"));\n",
        "for i in range(1,11):\n",
        "   ans=num*i;\n",
        "   print(num,\"x\",i,\"=\",ans);"
      ]
    },
    {
      "cell_type": "code",
      "source": [
        "num=int(input(\"Enter number:\"));\n",
        "i=1\n",
        "while i<11:\n",
        "  ans=num*i;\n",
        "  print(num,\"x\",i,\"=\",ans);\n",
        "  i=i+1;"
      ],
      "metadata": {
        "colab": {
          "base_uri": "https://localhost:8080/"
        },
        "id": "G-AuN02ABTJu",
        "outputId": "be535076-49f4-4322-d346-5fe9abd2497c"
      },
      "execution_count": null,
      "outputs": [
        {
          "output_type": "stream",
          "name": "stdout",
          "text": [
            "Enter number:5\n",
            "5 x 1 = 5\n",
            "5 x 2 = 10\n",
            "5 x 3 = 15\n",
            "5 x 4 = 20\n",
            "5 x 5 = 25\n",
            "5 x 6 = 30\n",
            "5 x 7 = 35\n",
            "5 x 8 = 40\n",
            "5 x 9 = 45\n",
            "5 x 10 = 50\n"
          ]
        }
      ]
    },
    {
      "cell_type": "code",
      "source": [
        "num=int(input(\"Enter a number:\"));\n",
        "if(num<=10):\n",
        "  for i in range(1,11):\n",
        "    ans=num*i\n",
        "    print(num,\"x\",i,\"=\",ans);\n",
        "else:\n",
        "  print(\"enter valid num\");"
      ],
      "metadata": {
        "id": "6qyWkBBfD-93",
        "colab": {
          "base_uri": "https://localhost:8080/"
        },
        "outputId": "ccf239ae-12c8-44ca-a4b4-cc639e11f385"
      },
      "execution_count": 2,
      "outputs": [
        {
          "output_type": "stream",
          "name": "stdout",
          "text": [
            "Enter a number:20\n",
            "enter validnum\n"
          ]
        }
      ]
    },
    {
      "cell_type": "code",
      "source": [],
      "metadata": {
        "id": "dBnjdRi6CXux"
      },
      "execution_count": null,
      "outputs": []
    }
  ]
}