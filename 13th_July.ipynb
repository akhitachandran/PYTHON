{
  "nbformat": 4,
  "nbformat_minor": 0,
  "metadata": {
    "colab": {
      "provenance": [],
      "authorship_tag": "ABX9TyMUDy0bsCkSGvQupavNmEng",
      "include_colab_link": true
    },
    "kernelspec": {
      "name": "python3",
      "display_name": "Python 3"
    },
    "language_info": {
      "name": "python"
    }
  },
  "cells": [
    {
      "cell_type": "markdown",
      "metadata": {
        "id": "view-in-github",
        "colab_type": "text"
      },
      "source": [
        "<a href=\"https://colab.research.google.com/github/akhitachandran/PYTHON/blob/main/13th_July.ipynb\" target=\"_parent\"><img src=\"https://colab.research.google.com/assets/colab-badge.svg\" alt=\"Open In Colab\"/></a>"
      ]
    },
    {
      "cell_type": "code",
      "source": [
        "email=input(\"mailid: \");\n",
        "list1=[\"com\",\"org\",\"edu\"]\n",
        "for l1 in list1:\n",
        "   print(email.endswith(\"l1\"));"
      ],
      "metadata": {
        "colab": {
          "base_uri": "https://localhost:8080/"
        },
        "id": "JIoQLsXsGXmd",
        "outputId": "51c5bb52-2ff4-43c5-a6fc-e9209a837b57"
      },
      "execution_count": null,
      "outputs": [
        {
          "output_type": "stream",
          "name": "stdout",
          "text": [
            "mailid: Abc@gmail.com\n",
            "False\n",
            "False\n",
            "False\n"
          ]
        }
      ]
    },
    {
      "cell_type": "code",
      "execution_count": null,
      "metadata": {
        "colab": {
          "base_uri": "https://localhost:8080/"
        },
        "id": "5niYy1Dp_jg3",
        "outputId": "0ea0465a-3bd1-4634-ee91-01b66a0b4bf4"
      },
      "outputs": [
        {
          "output_type": "stream",
          "name": "stdout",
          "text": [
            "Enter first name: A\n",
            "Enter middle name: L\n",
            "Enter last name: L\n",
            "A L L\n",
            "Enter email id: Abc@lsraheja.org\n",
            "Abc@lsraheja.org\n"
          ]
        }
      ],
      "source": [
        "RTGBfname=input(\"Enter first name: \");\n",
        "mname=input(\"Enter middle name: \");\n",
        "lname=input(\"Enter last name: \");\n",
        "\n",
        "name=\" \".join([fname,mname,lname]);\n",
        "print(name)\n",
        "\n",
        "email=input(\"Enter email id: \");\n",
        "if(email.endswith(\"com\")):\n",
        "   print(email);\n",
        "elif(email.endswith(\"org\")):\n",
        "   print(email);\n",
        "elif(email.endswith(\"edu\")):\n",
        "   print(email);\n",
        "else:\n",
        "   print(\"invalid\");"
      ]
    },
    {
      "cell_type": "markdown",
      "source": [
        "PASSWORD"
      ],
      "metadata": {
        "id": "KopwvK7iMF8d"
      }
    },
    {
      "cell_type": "code",
      "source": [
        "fname=input(\"Enter fullname: \");\n",
        "fname=fname.lower()\n",
        "a=fname[0:4];\n",
        "dob=input(\"DOB-(ddmmyyyy): \");\n",
        "b=dob[0:4];\n",
        "\n",
        "password=a+b;\n",
        "print(\"Password:\",password);"
      ],
      "metadata": {
        "colab": {
          "base_uri": "https://localhost:8080/"
        },
        "id": "G8k4GceaIwko",
        "outputId": "86ce20df-77e6-4ef6-b1d4-786b45f0b83e"
      },
      "execution_count": 1,
      "outputs": [
        {
          "output_type": "stream",
          "name": "stdout",
          "text": [
            "Enter fullname: ABCD\n",
            "DOB-(ddmmyyyy): 01012021\n",
            "Password: abcd0101\n"
          ]
        }
      ]
    },
    {
      "cell_type": "markdown",
      "source": [
        "Email check @ .com/.in"
      ],
      "metadata": {
        "id": "HFLiLJJmMM8G"
      }
    },
    {
      "cell_type": "code",
      "source": [],
      "metadata": {
        "id": "6R5g-sO8MVyd"
      },
      "execution_count": null,
      "outputs": []
    }
  ]
}