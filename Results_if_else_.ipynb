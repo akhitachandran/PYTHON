{
  "nbformat": 4,
  "nbformat_minor": 0,
  "metadata": {
    "colab": {
      "provenance": [],
      "authorship_tag": "ABX9TyMo73ka61l3JVKPTAyQvM0w",
      "include_colab_link": true
    },
    "kernelspec": {
      "name": "python3",
      "display_name": "Python 3"
    },
    "language_info": {
      "name": "python"
    }
  },
  "cells": [
    {
      "cell_type": "markdown",
      "metadata": {
        "id": "view-in-github",
        "colab_type": "text"
      },
      "source": [
        "<a href=\"https://colab.research.google.com/github/akhitachandran/PYTHON/blob/main/Results_if_else_.ipynb\" target=\"_parent\"><img src=\"https://colab.research.google.com/assets/colab-badge.svg\" alt=\"Open In Colab\"/></a>"
      ]
    },
    {
      "cell_type": "code",
      "execution_count": 2,
      "metadata": {
        "colab": {
          "base_uri": "https://localhost:8080/"
        },
        "id": "gjfubWIJ5PGv",
        "outputId": "7ff6d7f7-87bd-4a19-8eda-45364a8d4bda"
      },
      "outputs": [
        {
          "output_type": "stream",
          "name": "stdout",
          "text": [
            "Enter marks\n",
            "S1: 50\n",
            "S2: 69\n",
            "S3: 0\n",
            "S4: 90\n",
            "S5: 89\n",
            "Percentage: 59.6\n",
            "2nd class\n"
          ]
        }
      ],
      "source": [
        "8\n",
        "print(\"Enter marks\");\n",
        "\n",
        "s1=int(input(\"S1: \"));\n",
        "\n",
        "s2=int(input(\"S2: \"));\n",
        "\n",
        "s3=int(input(\"S3: \"));\n",
        "\n",
        "s4=int(input(\"S4: \"));\n",
        "\n",
        "s5=int(input(\"S5: \"));\n",
        "\n",
        "perc=(s1+s2+s3+s4+s5)/5;\n",
        "\n",
        "print(\"Percentage:\",perc)\n",
        "\n",
        "if(0>=perc>35):\n",
        "\n",
        " print(\"Fail\");\n",
        "\n",
        "elif(35>=perc<40):\n",
        "\n",
        " print(\"Pass class\");\n",
        "\n",
        "elif(40<=perc<60):\n",
        "\n",
        " print(\"2nd class\");\n",
        "\n",
        "elif(60<=perc<75):\n",
        "\n",
        " print(\"1st class\");\n",
        "\n",
        "elif(75<=perc<100):\n",
        "\n",
        " print(\"distinction\")"
      ]
    }
  ]
}