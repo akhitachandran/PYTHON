{
  "nbformat": 4,
  "nbformat_minor": 0,
  "metadata": {
    "colab": {
      "provenance": [],
      "authorship_tag": "ABX9TyOyCnuzOpFiwI3S9sRVT0Hr",
      "include_colab_link": true
    },
    "kernelspec": {
      "name": "python3",
      "display_name": "Python 3"
    },
    "language_info": {
      "name": "python"
    }
  },
  "cells": [
    {
      "cell_type": "markdown",
      "metadata": {
        "id": "view-in-github",
        "colab_type": "text"
      },
      "source": [
        "<a href=\"https://colab.research.google.com/github/akhitachandran/PYTHON/blob/main/Calculator(6th_July).ipynb\" target=\"_parent\"><img src=\"https://colab.research.google.com/assets/colab-badge.svg\" alt=\"Open In Colab\"/></a>"
      ]
    },
    {
      "cell_type": "code",
      "execution_count": 9,
      "metadata": {
        "colab": {
          "base_uri": "https://localhost:8080/"
        },
        "id": "Zqx1Z0SgMfxD",
        "outputId": "d6bba475-5171-4980-dc26-5ab33d27784b"
      },
      "outputs": [
        {
          "output_type": "stream",
          "name": "stdout",
          "text": [
            "Enter num 1: 6\n",
            "Enter num 2: 3\n",
            "Enter choice: \n",
            "1-add\n",
            "2-sub\n",
            "3-divide \n",
            "4-multiply: 3\n",
            "2.0\n"
          ]
        }
      ],
      "source": [
        "def add(a,b):\n",
        "   return a+b;\n",
        "\n",
        "def sub(a,b):\n",
        "   return a-b;\n",
        "\n",
        "def div(a,b):\n",
        "    return a/b;\n",
        "\n",
        "def mul(a,b):\n",
        "    return a*b\n",
        "\n",
        "num1=int(input(\"Enter num 1: \"));\n",
        "num2=int(input(\"Enter num 2: \"));\n",
        "choice=int(input('''Enter choice:\n",
        "1-add\n",
        "2-sub\n",
        "3-divide\n",
        "4-multiply: '''));\n",
        "\n",
        "if choice==1:\n",
        "   res=add(num1,num2)\n",
        "   print(res);\n",
        "elif choice==2:\n",
        "   res=sub(num1,num2)\n",
        "   print(res);\n",
        "elif choice==3:\n",
        "   res=div(num1,num2)\n",
        "   print(res);\n",
        "elif choice==4:\n",
        "   res=mul(num1,num2)\n",
        "   print(res);\n",
        "else:\n",
        "   print(\"Enter a valid choice!\");"
      ]
    }
  ]
}