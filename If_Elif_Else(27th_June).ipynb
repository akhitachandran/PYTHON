{
  "nbformat": 4,
  "nbformat_minor": 0,
  "metadata": {
    "colab": {
      "provenance": [],
      "authorship_tag": "ABX9TyO8iSW8MG6VhdHQVvCNX/fq"
    },
    "kernelspec": {
      "name": "python3",
      "display_name": "Python 3"
    },
    "language_info": {
      "name": "python"
    }
  },
  "cells": [
    {
      "cell_type": "code",
      "execution_count": null,
      "metadata": {
        "colab": {
          "base_uri": "https://localhost:8080/"
        },
        "id": "t_pnMmJ8hftK",
        "outputId": "e2b3456f-3290-4d79-8113-92ac100307cd"
      },
      "outputs": [
        {
          "output_type": "stream",
          "name": "stdout",
          "text": [
            "Enter age: 15\n",
            "not eligible for job\n"
          ]
        }
      ],
      "source": [
        "age=int(input(\"Enter age: \"));\n",
        "if(16<=age<=18):\n",
        " print(\"eligible for part time job\")\n",
        "elif(18<=age>=65):\n",
        " print(\"eligible for full time job\")\n",
        "else:\n",
        " print(\"not eligible for job\");"
      ]
    },
    {
      "cell_type": "code",
      "execution_count": null,
      "metadata": {
        "colab": {
          "base_uri": "https://localhost:8080/"
        },
        "id": "NSKA3t0ejkPJ",
        "outputId": "0904a57d-747c-4229-c010-76d95efc91ee"
      },
      "outputs": [
        {
          "name": "stdout",
          "output_type": "stream",
          "text": [
            "10\n"
          ]
        }
      ],
      "source": [
        "a=5;\n",
        "b=10;\n",
        "print(a) if(a>b) else print(b) if(b>a) else print(\"=\")"
      ]
    },
    {
      "cell_type": "code",
      "execution_count": null,
      "metadata": {
        "colab": {
          "base_uri": "https://localhost:8080/"
        },
        "id": "v9DizHHNk3oR",
        "outputId": "9d8d8141-fd6d-4596-c8ab-c4b680063288"
      },
      "outputs": [
        {
          "output_type": "stream",
          "name": "stdout",
          "text": [
            "eligible for full time job\n"
          ]
        }
      ],
      "source": [
        "age=20;\n",
        "\n",
        "print(\"eligible for part time job\")if(age>=16 and age<18) else print(\"eligible for full time job\") if(age>=18 and age<65) else print(\"not eligible\")"
      ]
    }
  ]
}