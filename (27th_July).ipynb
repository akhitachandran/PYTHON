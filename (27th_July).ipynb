{
  "nbformat": 4,
  "nbformat_minor": 0,
  "metadata": {
    "colab": {
      "provenance": [],
      "authorship_tag": "ABX9TyPA7aI16tvooX4Ia3hhuOxh"
    },
    "kernelspec": {
      "name": "python3",
      "display_name": "Python 3"
    },
    "language_info": {
      "name": "python"
    }
  },
  "cells": [
    {
      "cell_type": "code",
      "execution_count": null,
      "metadata": {
        "colab": {
          "base_uri": "https://localhost:8080/"
        },
        "id": "7qPfpS1p8-Hp",
        "outputId": "51ba1313-ecda-4dea-fefe-1b1c56f2ec84"
      },
      "outputs": [
        {
          "output_type": "stream",
          "name": "stdout",
          "text": [
            "value of a= 2\n",
            "value of b= 3\n",
            "value of c= 4\n",
            "(-3+1.1989578808281798j) (-3-1.1989578808281798j)\n"
          ]
        }
      ],
      "source": [
        "a=int(input(\"value of a= \"));\n",
        "b=int(input(\"value of b= \"));\n",
        "c=int(input(\"value of c= \"));\n",
        "\n",
        "x=(b**2-4*a*c);\n",
        "res1=(-b+(x)**0.5/(2*a));\n",
        "res2=(-b-(x)**0.5/(2*a));\n",
        "print(res1,res2);"
      ]
    },
    {
      "cell_type": "code",
      "source": [
        "import cmath\n",
        "a,b,c=1,5,6;\n",
        "\n",
        "#calculate the discriminant\n",
        "d=(b**2)-(4*a*c)\n",
        "\n",
        "#find sol\n",
        "sol1=(-b-cmath.sqrt(d))/(2*a);\n",
        "sol2=(-b+cmath.sqrt(d))/(2*a);\n",
        "print('the solution are {0} and {1}'.format(sol1,sol2))"
      ],
      "metadata": {
        "colab": {
          "base_uri": "https://localhost:8080/"
        },
        "id": "VErPY0ytGYOZ",
        "outputId": "ed293747-5f57-40f7-c060-065f3f3f204e"
      },
      "execution_count": null,
      "outputs": [
        {
          "output_type": "stream",
          "name": "stdout",
          "text": [
            "the solution are (-3+0j) and (-2+0j)\n"
          ]
        }
      ]
    },
    {
      "cell_type": "markdown",
      "source": [
        "generate random numbers"
      ],
      "metadata": {
        "id": "-K8uabuaKDxr"
      }
    },
    {
      "cell_type": "code",
      "source": [
        "import random\n",
        "print(random.randint(0,10))"
      ],
      "metadata": {
        "colab": {
          "base_uri": "https://localhost:8080/"
        },
        "id": "Tn49m5emJjx7",
        "outputId": "ade7a9b1-9b3a-48e7-df24-b4371e961756"
      },
      "execution_count": null,
      "outputs": [
        {
          "output_type": "stream",
          "name": "stdout",
          "text": [
            "0\n"
          ]
        }
      ]
    },
    {
      "cell_type": "markdown",
      "source": [
        "display calendar"
      ],
      "metadata": {
        "id": "R7K_PneWKKVj"
      }
    },
    {
      "cell_type": "code",
      "source": [
        "import calendar\n",
        "yy=int(input(\"Enter Year: \"));\n",
        "mm=int(input(\"Enter Month: \"));\n",
        "print(calendar.month(yy,mm));"
      ],
      "metadata": {
        "colab": {
          "base_uri": "https://localhost:8080/"
        },
        "id": "hHjQPar6KPha",
        "outputId": "66562f75-43c5-41c1-ac97-c07b353be24e"
      },
      "execution_count": null,
      "outputs": [
        {
          "output_type": "stream",
          "name": "stdout",
          "text": [
            "Enter Year: 2005\n",
            "Enter Month: 11\n",
            "   November 2005\n",
            "Mo Tu We Th Fr Sa Su\n",
            "    1  2  3  4  5  6\n",
            " 7  8  9 10 11 12 13\n",
            "14 15 16 17 18 19 20\n",
            "21 22 23 24 25 26 27\n",
            "28 29 30\n",
            "\n"
          ]
        }
      ]
    }
  ]
}