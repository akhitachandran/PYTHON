{
  "nbformat": 4,
  "nbformat_minor": 0,
  "metadata": {
    "colab": {
      "provenance": [],
      "authorship_tag": "ABX9TyNLWnd02ZHhxTvYv1UbVzz7",
      "include_colab_link": true
    },
    "kernelspec": {
      "name": "python3",
      "display_name": "Python 3"
    },
    "language_info": {
      "name": "python"
    }
  },
  "cells": [
    {
      "cell_type": "markdown",
      "metadata": {
        "id": "view-in-github",
        "colab_type": "text"
      },
      "source": [
        "<a href=\"https://colab.research.google.com/github/akhitachandran/PYTHON/blob/main/Sign_up_form.ipynb\" target=\"_parent\"><img src=\"https://colab.research.google.com/assets/colab-badge.svg\" alt=\"Open In Colab\"/></a>"
      ]
    },
    {
      "cell_type": "code",
      "execution_count": 4,
      "metadata": {
        "id": "lvCMVOjuT1tE",
        "colab": {
          "base_uri": "https://localhost:8080/"
        },
        "outputId": "1996ed83-34eb-4651-fd04-2b8ef80c4408"
      },
      "outputs": [
        {
          "output_type": "stream",
          "name": "stdout",
          "text": [
            "Enter fist name: A\n",
            "Enter last name: B\n",
            "Enter email id: abc@gmail.com\n",
            "Enter pincode: 123456\n",
            "Enter mobile number: 1234056789\n",
            "Enter username: A\n",
            "Enter password: python\n",
            "Login successful\n",
            "------USER DETAILS-----\n",
            "Full Name:  A B\n",
            "['A', 'B', 'abc@gmail.com', 123456, 1234056789]\n"
          ]
        }
      ],
      "source": [
        "def user():\n",
        "  uname=input(\"Enter username: \");\n",
        "  pword=input(\"Enter password: \");\n",
        "\n",
        "  if uname==username and pword==password:\n",
        "    print(\"Login successful\")\n",
        "    print(\"------USER DETAILS-----\");\n",
        "    print(\"Full Name: \",fname,lname)\n",
        "    print(details);\n",
        "  else:\n",
        "    print(\"Login denied\");\n",
        "\n",
        "\n",
        "fname=input(\"Enter fist name: \");\n",
        "\n",
        "username=fname;\n",
        "password=\"python\";\n",
        "\n",
        "lname=input(\"Enter last name: \");\n",
        "mailid=input(\"Enter email id: \");\n",
        "x=mailid.endswith(\"@gmail.com\" or \"@yahoo.com\");\n",
        "if x==True:\n",
        "   pin=int(input(\"Enter pincode: \"));\n",
        "   a=len(str(pin))\n",
        "   if a==6:\n",
        "        mno=int(input(\"Enter mobile number: \"))\n",
        "        b=len(str(mno))\n",
        "        if b==10:\n",
        "          details=[fname, lname, mailid, pin, mno]\n",
        "          user();\n",
        "        else:\n",
        "           print(\"Enter valid mobile number!\")\n",
        "   else:\n",
        "        print(\"enter valid pincode!\")\n",
        "else:\n",
        "   print(\"enter valid email id!\")\n",
        "\n",
        "\n"
      ]
    },
    {
      "cell_type": "code",
      "source": [],
      "metadata": {
        "id": "30MPszx9Qpmi"
      },
      "execution_count": null,
      "outputs": []
    }
  ]
}