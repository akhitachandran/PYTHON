{
  "nbformat": 4,
  "nbformat_minor": 0,
  "metadata": {
    "colab": {
      "provenance": [],
      "authorship_tag": "ABX9TyPhoF03YiZWWWn3ZiuK9wQ7"
    },
    "kernelspec": {
      "name": "python3",
      "display_name": "Python 3"
    },
    "language_info": {
      "name": "python"
    }
  },
  "cells": [
    {
      "cell_type": "code",
      "execution_count": null,
      "metadata": {
        "id": "bwmfYD6EuqNg"
      },
      "outputs": [],
      "source": [
        "budget=int(input(\"enter budget\"))\n",
        "if 25000<=budget>=75000:\n",
        "    print(\"asus:1 lenovo:2\")\n",
        "    choice=int(input(\"enter choice\"))\n",
        "    if choice == 1:\n",
        "       print(\"bought asus\")\n",
        "    elif choice == 2:\n",
        "        print(\"bought lenovo\")\n",
        "    else:\n",
        "        print(\"enter valid value!\")\n",
        "elif budget>75000 and budget<=100000:\n",
        "    print(\"HP:1 MacBook:2\")\n",
        "    choice=int(input(\"enter choice\"))\n",
        "    if choice == 1:\n",
        "        print(\"bought HP\")\n",
        "    elif choice == 2:\n",
        "        print(\"bought MacBook\")\n",
        "    else:\n",
        "        print(\"enter valid value!\")\n",
        "else:\n",
        "    print(\"no results found!\")"
      ]
    }
  ]
}