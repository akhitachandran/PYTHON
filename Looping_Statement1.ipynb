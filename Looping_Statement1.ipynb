{
  "nbformat": 4,
  "nbformat_minor": 0,
  "metadata": {
    "colab": {
      "provenance": [],
      "authorship_tag": "ABX9TyPf1xsgEp6GxhQ3H7/hG3GF"
    },
    "kernelspec": {
      "name": "python3",
      "display_name": "Python 3"
    },
    "language_info": {
      "name": "python"
    }
  },
  "cells": [
    {
      "cell_type": "code",
      "execution_count": null,
      "metadata": {
        "colab": {
          "base_uri": "https://localhost:8080/"
        },
        "id": "uSAjs_4Nzw3t",
        "outputId": "93c97b01-9417-4357-c72c-7632c184d394"
      },
      "outputs": [
        {
          "output_type": "stream",
          "name": "stdout",
          "text": [
            "0\n",
            "5\n",
            "10\n",
            "15\n",
            "20\n",
            "25\n",
            "30\n",
            "35\n",
            "40\n",
            "45\n",
            "50\n",
            "55\n",
            "60\n",
            "65\n",
            "70\n",
            "75\n",
            "80\n",
            "85\n",
            "90\n",
            "95\n",
            "100\n"
          ]
        }
      ],
      "source": [
        "for i in range(0,101,5):\n",
        "   print(i);"
      ]
    },
    {
      "cell_type": "code",
      "source": [
        "i=0\n",
        "while i<11:\n",
        "\n",
        "  print (i);\n",
        "  i=i+1;"
      ],
      "metadata": {
        "colab": {
          "base_uri": "https://localhost:8080/"
        },
        "id": "v3stUCaw0PEr",
        "outputId": "321809c2-5dc2-442c-e562-786e07bcfe19"
      },
      "execution_count": null,
      "outputs": [
        {
          "output_type": "stream",
          "name": "stdout",
          "text": [
            "0\n",
            "1\n",
            "2\n",
            "3\n",
            "4\n",
            "5\n",
            "6\n",
            "7\n",
            "8\n",
            "9\n",
            "10\n"
          ]
        }
      ]
    },
    {
      "cell_type": "code",
      "source": [
        "City=[\"Pune\",\"mumbai\",\"delhi\"]\n",
        "for i in City:\n",
        "  print(\"I love\",i);\n",
        "\n",
        "\n",
        "\n",
        "city=[\"A\",\"B\",\"C\"]\n",
        "for i in range(len(city)):\n",
        "  print(\"I love\",city[i]);\n",
        "\n",
        "\n",
        "\n",
        "for i in range(11):\n",
        "  print(i);\n",
        "else:\n",
        "  print(\"loop has ended\");"
      ],
      "metadata": {
        "colab": {
          "base_uri": "https://localhost:8080/"
        },
        "id": "w4FRsIhI3Rza",
        "outputId": "4c720e86-afa6-4ec6-bd7f-13aa582b1528"
      },
      "execution_count": null,
      "outputs": [
        {
          "output_type": "stream",
          "name": "stdout",
          "text": [
            "I love Pune\n",
            "I love mumbai\n",
            "I love delhi\n",
            "I love A\n",
            "I love B\n",
            "I love C\n",
            "0\n",
            "1\n",
            "2\n",
            "3\n",
            "4\n",
            "5\n",
            "6\n",
            "7\n",
            "8\n",
            "9\n",
            "10\n",
            "loop has ended\n"
          ]
        }
      ]
    },
    {
      "cell_type": "code",
      "source": [
        "for i in range(0,11):\n",
        " print(i);\n",
        " if i==8 :\n",
        "     print(\"break loop\")\n",
        "     break;\n",
        " else:\n",
        "     print(\"ended\");"
      ],
      "metadata": {
        "colab": {
          "base_uri": "https://localhost:8080/"
        },
        "id": "5Lk3WRee65Pv",
        "outputId": "dca72b0a-6059-40cc-aabc-b90852ff11f1"
      },
      "execution_count": null,
      "outputs": [
        {
          "output_type": "stream",
          "name": "stdout",
          "text": [
            "0\n",
            "ended\n",
            "1\n",
            "ended\n",
            "2\n",
            "ended\n",
            "3\n",
            "ended\n",
            "4\n",
            "ended\n",
            "5\n",
            "ended\n",
            "6\n",
            "ended\n",
            "7\n",
            "ended\n",
            "8\n",
            "break loop\n"
          ]
        }
      ]
    },
    {
      "cell_type": "code",
      "source": [
        "counter=0;\n",
        "while counter<5:\n",
        "   print(\"while loop no.\",counter);\n",
        "   counter=counter+1;\n",
        "else:\n",
        "   print(\"loop ended\");"
      ],
      "metadata": {
        "id": "xmxgUEU_7wP0"
      },
      "execution_count": null,
      "outputs": []
    },
    {
      "cell_type": "code",
      "source": [],
      "metadata": {
        "id": "64PSVFhv4LnC"
      },
      "execution_count": null,
      "outputs": []
    }
  ]
}