{
  "nbformat": 4,
  "nbformat_minor": 0,
  "metadata": {
    "colab": {
      "provenance": [],
      "authorship_tag": "ABX9TyPPUHwZnWL/R4ndp1gAvvG/"
    },
    "kernelspec": {
      "name": "python3",
      "display_name": "Python 3"
    },
    "language_info": {
      "name": "python"
    }
  },
  "cells": [
    {
      "cell_type": "code",
      "execution_count": 1,
      "metadata": {
        "colab": {
          "base_uri": "https://localhost:8080/"
        },
        "id": "7wbDLfVawFzH",
        "outputId": "bf92dd0a-9673-4c8e-ea7d-4f449256e2c4"
      },
      "outputs": [
        {
          "output_type": "stream",
          "name": "stdout",
          "text": [
            "a is given in the list\n",
            "b is given in the list\n"
          ]
        }
      ],
      "source": [
        "a=10\n",
        "b=20\n",
        "list=[10,20,30,40,50]\n",
        "if(a in list):\n",
        "  print('a is given in the list')\n",
        "else:\n",
        "  print('a is not given in the list')\n",
        "if(b not in list):\n",
        "  print('b is not given in the list')\n",
        "else:\n",
        "  print('b is given in the list')"
      ]
    },
    {
      "cell_type": "code",
      "source": [
        "a=\"sharo\"\n",
        "list=[\"sharo\",24,24.5,\"test\"]\n",
        "if(a in list):\n",
        "  print(\"a is given\")\n",
        "else:\n",
        "  print(\"a is not given\")"
      ],
      "metadata": {
        "colab": {
          "base_uri": "https://localhost:8080/"
        },
        "id": "G7aGdf_twiXo",
        "outputId": "2535f197-1748-4a40-d6ae-552e6fb5d72e"
      },
      "execution_count": 2,
      "outputs": [
        {
          "output_type": "stream",
          "name": "stdout",
          "text": [
            "a is given\n"
          ]
        }
      ]
    },
    {
      "cell_type": "code",
      "source": [
        "L1=[\"sharo\",24,24.5,\"test\"]\n",
        "print(L1[-1][::-1])"
      ],
      "metadata": {
        "colab": {
          "base_uri": "https://localhost:8080/"
        },
        "id": "5OZPOh23wjiQ",
        "outputId": "afbe136c-d9f3-4f88-9c60-e1f70ad98551"
      },
      "execution_count": 3,
      "outputs": [
        {
          "output_type": "stream",
          "name": "stdout",
          "text": [
            "tset\n"
          ]
        }
      ]
    },
    {
      "cell_type": "code",
      "source": [
        "L1=[\"sharo\",24,24.5,\"test\"]\n",
        "print(L1[::-1])"
      ],
      "metadata": {
        "colab": {
          "base_uri": "https://localhost:8080/"
        },
        "id": "WQGTJsDJwnIA",
        "outputId": "0e403d70-a6a5-4d98-dcd5-d85ccde19e1b"
      },
      "execution_count": 4,
      "outputs": [
        {
          "output_type": "stream",
          "name": "stdout",
          "text": [
            "['test', 24.5, 24, 'sharo']\n"
          ]
        }
      ]
    }
  ]
}