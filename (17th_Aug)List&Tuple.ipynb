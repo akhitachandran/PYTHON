{
  "nbformat": 4,
  "nbformat_minor": 0,
  "metadata": {
    "colab": {
      "provenance": [],
      "authorship_tag": "ABX9TyOy1oN8E1L13hUlzk1xGYZW"
    },
    "kernelspec": {
      "name": "python3",
      "display_name": "Python 3"
    },
    "language_info": {
      "name": "python"
    }
  },
  "cells": [
    {
      "cell_type": "code",
      "execution_count": null,
      "metadata": {
        "colab": {
          "base_uri": "https://localhost:8080/"
        },
        "id": "mMnrJkg_FDJz",
        "outputId": "62435691-c7d3-4a38-ab8a-a5cab3c2ab8e"
      },
      "outputs": [
        {
          "output_type": "stream",
          "name": "stdout",
          "text": [
            "[1, 2, 3, [40, 50, 60], 70, 80]\n"
          ]
        }
      ],
      "source": [
        "L1=[1,2,3,[40,50],70,80]\n",
        "L1[3].insert(2,60)\n",
        "print(L1)"
      ]
    },
    {
      "cell_type": "code",
      "source": [
        "L1=[10,20,30]\n",
        "L2=[35,20,10]\n",
        "result=L1+L2\n",
        "print(result);\n",
        "\n",
        "print(min(L1))\n",
        "print(max(L2))\n",
        "\n",
        "\n",
        "L3=['A','B','a','b']\n",
        "print(min(L3))\n",
        "print(max(L3))\n",
        "\n",
        "L4=['Python','Java','CPP','HTML']\n",
        "print(min(L4))\n",
        "print(max(L4))"
      ],
      "metadata": {
        "colab": {
          "base_uri": "https://localhost:8080/"
        },
        "id": "TG4tiiuJHItL",
        "outputId": "8e7a2fbb-2ce9-4c5a-d422-fb3b195165a2"
      },
      "execution_count": null,
      "outputs": [
        {
          "output_type": "stream",
          "name": "stdout",
          "text": [
            "[10, 20, 30, 35, 20, 10]\n",
            "10\n",
            "35\n",
            "A\n",
            "b\n",
            "CPP\n",
            "Python\n"
          ]
        }
      ]
    },
    {
      "cell_type": "markdown",
      "source": [
        "Tuples and Dictionary"
      ],
      "metadata": {
        "id": "K-gJCiCJ5df-"
      }
    },
    {
      "cell_type": "code",
      "source": [
        "T1=(10,20,30,40)\n",
        "L1=list(T1) #typecast tuple into list\n",
        "L1.append(50)\n",
        "T1=tuple(L1) #typecasr list into tuple\n",
        "print(T1)"
      ],
      "metadata": {
        "colab": {
          "base_uri": "https://localhost:8080/"
        },
        "id": "RGagsR4sJUYe",
        "outputId": "085783fe-956a-45ad-94bd-3ea52e64fd8c"
      },
      "execution_count": null,
      "outputs": [
        {
          "output_type": "stream",
          "name": "stdout",
          "text": [
            "(10, 20, 30, 40, 50)\n"
          ]
        }
      ]
    },
    {
      "cell_type": "markdown",
      "source": [
        "when lists and tuples are nested, the nested lists are mutable and the nested tuples are immutable"
      ],
      "metadata": {
        "id": "DIW35SlrSXl4"
      }
    },
    {
      "cell_type": "code",
      "source": [
        "L1=[10,20,30,(50,60),80]\n",
        "L1[3].insert(2,70)\n",
        "print(L1)"
      ],
      "metadata": {
        "colab": {
          "base_uri": "https://localhost:8080/",
          "height": 263
        },
        "id": "3GInXlGrRh9E",
        "outputId": "ae7291dd-e46b-4725-d5c4-4bc945242e91"
      },
      "execution_count": null,
      "outputs": [
        {
          "output_type": "error",
          "ename": "AttributeError",
          "evalue": "'tuple' object has no attribute 'insert'",
          "traceback": [
            "\u001b[0;31m---------------------------------------------------------------------------\u001b[0m",
            "\u001b[0;31mAttributeError\u001b[0m                            Traceback (most recent call last)",
            "\u001b[0;32m<ipython-input-33-50f3a66f7491>\u001b[0m in \u001b[0;36m<cell line: 2>\u001b[0;34m()\u001b[0m\n\u001b[1;32m      1\u001b[0m \u001b[0mL1\u001b[0m\u001b[0;34m=\u001b[0m\u001b[0;34m[\u001b[0m\u001b[0;36m10\u001b[0m\u001b[0;34m,\u001b[0m\u001b[0;36m20\u001b[0m\u001b[0;34m,\u001b[0m\u001b[0;36m30\u001b[0m\u001b[0;34m,\u001b[0m\u001b[0;34m(\u001b[0m\u001b[0;36m50\u001b[0m\u001b[0;34m,\u001b[0m\u001b[0;36m60\u001b[0m\u001b[0;34m)\u001b[0m\u001b[0;34m,\u001b[0m\u001b[0;36m80\u001b[0m\u001b[0;34m]\u001b[0m\u001b[0;34m\u001b[0m\u001b[0;34m\u001b[0m\u001b[0m\n\u001b[0;32m----> 2\u001b[0;31m \u001b[0mL1\u001b[0m\u001b[0;34m[\u001b[0m\u001b[0;36m3\u001b[0m\u001b[0;34m]\u001b[0m\u001b[0;34m.\u001b[0m\u001b[0minsert\u001b[0m\u001b[0;34m(\u001b[0m\u001b[0;36m2\u001b[0m\u001b[0;34m,\u001b[0m\u001b[0;36m70\u001b[0m\u001b[0;34m)\u001b[0m\u001b[0;34m\u001b[0m\u001b[0;34m\u001b[0m\u001b[0m\n\u001b[0m\u001b[1;32m      3\u001b[0m \u001b[0mprint\u001b[0m\u001b[0;34m(\u001b[0m\u001b[0mL1\u001b[0m\u001b[0;34m)\u001b[0m\u001b[0;34m\u001b[0m\u001b[0;34m\u001b[0m\u001b[0m\n",
            "\u001b[0;31mAttributeError\u001b[0m: 'tuple' object has no attribute 'insert'"
          ]
        }
      ]
    },
    {
      "cell_type": "code",
      "source": [
        "\n",
        "Test=(10,20,30,[50,60],80)\n",
        "Test[3].insert(2,70)\n",
        "print(Test)"
      ],
      "metadata": {
        "colab": {
          "base_uri": "https://localhost:8080/"
        },
        "id": "xgGDP8DvR8Di",
        "outputId": "c93924c1-4ac2-49e0-ed92-92f40dbcb043"
      },
      "execution_count": null,
      "outputs": [
        {
          "output_type": "stream",
          "name": "stdout",
          "text": [
            "(10, 20, 30, [50, 60, 70], 80)\n"
          ]
        }
      ]
    },
    {
      "cell_type": "code",
      "source": [
        "test=(10,20,30,[50,60,(70,80,'python')],100,101)\n",
        "print(test[3][-1][-1])\n",
        "\n",
        "print(test[3][-1][-1][0::2])"
      ],
      "metadata": {
        "colab": {
          "base_uri": "https://localhost:8080/"
        },
        "id": "nmmdH8r-SW7T",
        "outputId": "fdd1cc8e-968c-4159-e79e-a752f55c5514"
      },
      "execution_count": null,
      "outputs": [
        {
          "output_type": "stream",
          "name": "stdout",
          "text": [
            "python\n",
            "pto\n"
          ]
        }
      ]
    },
    {
      "cell_type": "code",
      "source": [],
      "metadata": {
        "id": "1eMeF3YkTQnN"
      },
      "execution_count": null,
      "outputs": []
    }
  ]
}