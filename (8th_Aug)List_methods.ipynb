{
  "nbformat": 4,
  "nbformat_minor": 0,
  "metadata": {
    "colab": {
      "provenance": [],
      "authorship_tag": "ABX9TyMjbTrKqjapiIoql2VUaVk9",
      "include_colab_link": true
    },
    "kernelspec": {
      "name": "python3",
      "display_name": "Python 3"
    },
    "language_info": {
      "name": "python"
    }
  },
  "cells": [
    {
      "cell_type": "markdown",
      "metadata": {
        "id": "view-in-github",
        "colab_type": "text"
      },
      "source": [
        "<a href=\"https://colab.research.google.com/github/akhitachandran/PYTHON/blob/main/(8th_Aug)List_methods.ipynb\" target=\"_parent\"><img src=\"https://colab.research.google.com/assets/colab-badge.svg\" alt=\"Open In Colab\"/></a>"
      ]
    },
    {
      "cell_type": "code",
      "execution_count": null,
      "metadata": {
        "colab": {
          "base_uri": "https://localhost:8080/"
        },
        "id": "cc5h22dcuBCl",
        "outputId": "d332646e-482c-45ee-cc78-d8d220775de4"
      },
      "outputs": [
        {
          "output_type": "stream",
          "name": "stdout",
          "text": [
            "[1, 2, 3, 4, 5, 6]\n"
          ]
        }
      ],
      "source": [
        "*c,d=[1,2,3,4,5,6,7]\n",
        "print(c)"
      ]
    },
    {
      "cell_type": "code",
      "source": [
        "x=(i for i in range(3))\n",
        "for i in x:\n",
        "  print(i);\n",
        "for i in x:\n",
        "  print(i);"
      ],
      "metadata": {
        "colab": {
          "base_uri": "https://localhost:8080/"
        },
        "id": "Rc1l7hoKuRfb",
        "outputId": "b3e553a2-f879-4913-9e2c-62a7363403be"
      },
      "execution_count": null,
      "outputs": [
        {
          "output_type": "stream",
          "name": "stdout",
          "text": [
            "0\n",
            "1\n",
            "2\n"
          ]
        }
      ]
    },
    {
      "cell_type": "code",
      "source": [
        "L1=[\"a\",\"b\",\"c\"]\n",
        "L2=['d','e','f']\n",
        "L3=L1+L2\n",
        "print(L3)\n",
        "L3.append(20);\n",
        "print(L3)"
      ],
      "metadata": {
        "colab": {
          "base_uri": "https://localhost:8080/"
        },
        "id": "wItONNqTv-9q",
        "outputId": "5c404860-4e61-4501-ff02-359f39bfddb9"
      },
      "execution_count": null,
      "outputs": [
        {
          "output_type": "stream",
          "name": "stdout",
          "text": [
            "['a', 'b', 'c', 'd', 'e', 'f']\n",
            "['a', 'b', 'c', 'd', 'e', 'f', 20]\n"
          ]
        }
      ]
    },
    {
      "cell_type": "code",
      "source": [
        "L1=[1,2,3,4]\n",
        "L1.append(5)\n",
        "print(L1);"
      ],
      "metadata": {
        "colab": {
          "base_uri": "https://localhost:8080/"
        },
        "id": "LL__dq0YxK1x",
        "outputId": "260c9462-a6fd-4f30-d0ea-b4555fdc5fb5"
      },
      "execution_count": null,
      "outputs": [
        {
          "output_type": "stream",
          "name": "stdout",
          "text": [
            "[1, 2, 3, 4, 5]\n"
          ]
        }
      ]
    },
    {
      "cell_type": "code",
      "source": [
        "L1=[1,2,3]\n",
        "L2=[5,8,9]\n",
        "#L1.append(L2)\n",
        "#print(L1);\n",
        "#L1.extend(L2)\n",
        "#print(L1)\n",
        "\n",
        "L1.append(\"python\");\n",
        "print(L1);\n",
        "\n",
        "L1.extend(\"python\");\n",
        "print(L1);\n",
        "\n",
        "#L1.extend(1000);\n",
        "#print(L1)\n",
        "\n",
        "L1.append(1000);\n",
        "print(L1);"
      ],
      "metadata": {
        "colab": {
          "base_uri": "https://localhost:8080/"
        },
        "id": "NNAVBNUJxzyi",
        "outputId": "4da447a4-721e-40a6-f65c-e20260eb53af"
      },
      "execution_count": null,
      "outputs": [
        {
          "output_type": "stream",
          "name": "stdout",
          "text": [
            "[1, 2, 3, 'python']\n",
            "[1, 2, 3, 'python', 'p', 'y', 't', 'h', 'o', 'n']\n",
            "[1, 2, 3, 'python', 'p', 'y', 't', 'h', 'o', 'n', 1000]\n"
          ]
        }
      ]
    },
    {
      "cell_type": "code",
      "source": [
        "\n",
        "\n",
        "L1=[1,2,3,[4,5,6],\"Python\"]\n",
        "print(L1[0]);\n",
        "print(L1[3][1]); #second bracket for values inside the list\n",
        "print(L1[-1][1:]);\n",
        "\n",
        "L2=[1,2,3,[4,5,\"python\"]];\n",
        "print(L2[3][-1][1:]);\n",
        "\n",
        "L2[-1].append(\"programming\")\n",
        "print(L2)"
      ],
      "metadata": {
        "colab": {
          "base_uri": "https://localhost:8080/"
        },
        "id": "-yLVeSc31Vp_",
        "outputId": "3ed09022-11fe-4dda-f636-445f91b61c4c"
      },
      "execution_count": null,
      "outputs": [
        {
          "output_type": "stream",
          "name": "stdout",
          "text": [
            "1\n",
            "5\n",
            "ython\n",
            "ython\n",
            "[1, 2, 3, [4, 5, 'python', 'programming']]\n"
          ]
        }
      ]
    },
    {
      "cell_type": "code",
      "source": [
        "L1=[1,2,3,[30,80,20]]\n",
        "L1[-1].sort()\n",
        "print(L1)\n",
        "L1.pop(-1)\n",
        "print(L1);\n",
        "\n",
        "\n",
        "L2=[\"R\",\"Y\",\"A\",\"F\"];\n",
        "L2.sort();\n",
        "L2.reverse();\n",
        "print(L2)\n",
        "\n",
        "\n",
        "L2.insert(2,\"W\")\n",
        "print(L2)\n",
        "\n",
        "L3=[10,20,30,[50,60,[70,80]]];\n",
        "print(L3[-1][-1][-1])\n",
        "\n",
        "L4=[10,20,30,[50,60,[\"python\",\"prog\"]]]\n",
        "print(L4[-1][-1][0],L4[-1][-1][-1])"
      ],
      "metadata": {
        "colab": {
          "base_uri": "https://localhost:8080/"
        },
        "id": "r9A74o8g5QTq",
        "outputId": "8134bc3e-3d63-4a27-8ede-a6a76d60b23b"
      },
      "execution_count": null,
      "outputs": [
        {
          "output_type": "stream",
          "name": "stdout",
          "text": [
            "[1, 2, 3, [20, 30, 80]]\n",
            "[1, 2, 3]\n",
            "['Y', 'R', 'F', 'A']\n",
            "['Y', 'R', 'W', 'F', 'A']\n",
            "80\n",
            "python prog\n"
          ]
        }
      ]
    },
    {
      "cell_type": "code",
      "source": [
        "import math\n",
        "\n",
        "L1=[10,20,30,[50,60,[100,200]]]\n",
        "a=math.sqrt(L1[-1][-1][0])\n",
        "b=math.sqrt(L1[-1][-1][-1])\n",
        "print(L1)\n",
        "\n",
        "L1[-1][-1][0]=a;\n",
        "L1[-1][-1][-1]=b;\n",
        "print(L1);"
      ],
      "metadata": {
        "colab": {
          "base_uri": "https://localhost:8080/"
        },
        "id": "SOXGTUKmAROL",
        "outputId": "674eaf01-a11a-42e2-b5e1-b5ced475db96"
      },
      "execution_count": null,
      "outputs": [
        {
          "output_type": "stream",
          "name": "stdout",
          "text": [
            "[10, 20, 30, [50, 60, [100, 200]]]\n",
            "[10, 20, 30, [50, 60, [10.0, 14.142135623730951]]]\n"
          ]
        }
      ]
    }
  ]
}