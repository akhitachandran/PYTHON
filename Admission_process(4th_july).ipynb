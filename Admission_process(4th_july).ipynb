{
  "nbformat": 4,
  "nbformat_minor": 0,
  "metadata": {
    "colab": {
      "provenance": [],
      "authorship_tag": "ABX9TyNAsDrA+UmOEYoAZpCNpUYH",
      "include_colab_link": true
    },
    "kernelspec": {
      "name": "python3",
      "display_name": "Python 3"
    },
    "language_info": {
      "name": "python"
    }
  },
  "cells": [
    {
      "cell_type": "markdown",
      "metadata": {
        "id": "view-in-github",
        "colab_type": "text"
      },
      "source": [
        "<a href=\"https://colab.research.google.com/github/akhitachandran/PYTHON/blob/main/Admission_process(4th_july).ipynb\" target=\"_parent\"><img src=\"https://colab.research.google.com/assets/colab-badge.svg\" alt=\"Open In Colab\"/></a>"
      ]
    },
    {
      "cell_type": "code",
      "execution_count": null,
      "metadata": {
        "colab": {
          "base_uri": "https://localhost:8080/"
        },
        "id": "kiAGief2rufc",
        "outputId": "6ca5db88-459e-4488-9c5b-4f9c3e3cd21b"
      },
      "outputs": [
        {
          "output_type": "stream",
          "name": "stdout",
          "text": [
            "Enter course name: BFM\n",
            "enter valid name\n"
          ]
        }
      ],
      "source": [
        "course=input(\"Enter course name: \");\n",
        "if course==\"BSCIT\":\n",
        "   perc=int(input(\"Enter percentage: \"));\n",
        "   sub=input(\"Enter subject name: \");\n",
        "   if sub==\"Maths\" and perc>45:\n",
        "      print(\"eligible for admission \");\n",
        "   else:\n",
        "      print(\"not eligible\");\n",
        "else:\n",
        "  print(\"enter valid name\");"
      ]
    }
  ]
}