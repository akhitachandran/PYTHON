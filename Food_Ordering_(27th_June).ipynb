{
  "nbformat": 4,
  "nbformat_minor": 0,
  "metadata": {
    "colab": {
      "provenance": [],
      "authorship_tag": "ABX9TyMrV3ZT4lcYntFy2pLGeH2D",
      "include_colab_link": true
    },
    "kernelspec": {
      "name": "python3",
      "display_name": "Python 3"
    },
    "language_info": {
      "name": "python"
    }
  },
  "cells": [
    {
      "cell_type": "markdown",
      "metadata": {
        "id": "view-in-github",
        "colab_type": "text"
      },
      "source": [
        "<a href=\"https://colab.research.google.com/github/akhitachandran/PYTHON/blob/main/Food_Ordering_(27th_June).ipynb\" target=\"_parent\"><img src=\"https://colab.research.google.com/assets/colab-badge.svg\" alt=\"Open In Colab\"/></a>"
      ]
    },
    {
      "cell_type": "code",
      "execution_count": 1,
      "metadata": {
        "colab": {
          "base_uri": "https://localhost:8080/"
        },
        "id": "WvgnQVGkKmcg",
        "outputId": "45457f7e-13a0-43d0-9463-6c279522fd07"
      },
      "outputs": [
        {
          "output_type": "stream",
          "name": "stdout",
          "text": [
            "enter your choice(Breakfast(B),Lunch(L),Dinner(D)): D\n",
            "What would you like for dinner?\n",
            "\n",
            "Enter the cuisine(North-Indian(NI)/South-Indian(SI))NI\n",
            "Select your choice of food:(Veg-Thali(VT),Biryani(B))B\n",
            "You have ordered Biryani!\n",
            "\n",
            "THANK YOU !!\n"
          ]
        }
      ],
      "source": [
        "choice=input(\"enter your choice(Breakfast(B),Lunch(L),Dinner(D)): \");\n",
        "#BREAKFAST\n",
        "if(choice==\"B\"):\n",
        "  print(\"What would you like for breakfast?\\n\");\n",
        "  cuisine=input(\"Enter the cuisine(North-Indian(NI)/South-Indian(SI))\");\n",
        "  if(cuisine==\"NI\"):\n",
        "    food=input(\"Select your choice of food:(Poha(P),Samosa(S))\");\n",
        "    if(food==\"P\"):\n",
        "      print(\"You have ordered Poha!\");\n",
        "    elif(food==\"S\"):\n",
        "      print(\"You have ordered Samosa!\");\n",
        "    else:\n",
        "      print(\"ENTER VALID VALUE!\");\n",
        "  elif(cuisine==\"SI\"):\n",
        "    food=input(\"Select your choice of food:(Dosa(D),Idli(I))\");\n",
        "    if(food==\"D\"):\n",
        "      print(\"You have ordered Dosa!\");\n",
        "    elif(food==\"I\"):\n",
        "      print(\"You have ordered Idli!\");\n",
        "    else:\n",
        "      print(\"ENTER VALID VALUE!\");\n",
        "  else:\n",
        "    print(\"ENTER VALID VALUE!\");\n",
        "#LUNCH\n",
        "elif(choice==\"L\"):\n",
        "  print(\"What would you like for lunch?\\n\");\n",
        "  cuisine=input(\"Enter the cuisine(North-Indian(NI)/South-Indian(SI))\");\n",
        "  if(cuisine==\"NI\"):\n",
        "    food=input(\"Select your choice of food:(Dal-Chawal(DC),Roti-Bhaji(RB))\");\n",
        "    if(food==\"DC\"):\n",
        "      print(\"You have ordered Dal-Chawal!\");\n",
        "    elif(food==\"RB\"):\n",
        "      print(\"You have ordered Roti-Bhaji!\");\n",
        "    else:\n",
        "      print(\"ENTER VALID VALUE!\");\n",
        "  elif(cuisine==\"SI\"):\n",
        "    food=input(\"Select your choice of food:(Rice-Sambar(RS),Curd-Rice(CR))\");\n",
        "    if(food==\"RS\"):\n",
        "      print(\"You have ordered Rice-Sambar!\");\n",
        "    elif(food==\"CR\"):\n",
        "      print(\"You have ordered Curd-Rice!\");\n",
        "    else:\n",
        "      print(\"ENTER VALID VALUE!\");\n",
        "  else:\n",
        "    print(\"ENTER VALID VALUE!\");\n",
        "#DINNER\n",
        "elif(choice==\"D\"):\n",
        "  print(\"What would you like for dinner?\\n\");\n",
        "  cuisine=input(\"Enter the cuisine(North-Indian(NI)/South-Indian(SI))\");\n",
        "  if(cuisine==\"NI\"):\n",
        "    food=input(\"Select your choice of food:(Veg-Thali(VT),Biryani(B))\");\n",
        "    if(food==\"VT\"):\n",
        "      print(\"You have ordered Veg-Thali!\");\n",
        "    elif(food==\"B\"):\n",
        "      print(\"You have ordered Biryani!\");\n",
        "    else:\n",
        "      print(\"ENTER VALID VALUE!\");\n",
        "  elif(cuisine==\"SI\"):\n",
        "    food=input(\"Select your choice of food:(Rice-Sambar(RS),Hyderabadi Biryani(HB))\");\n",
        "    if(food==\"RS\"):\n",
        "      print(\"You have ordered Rice-Sambar!\");\n",
        "    elif(food==\"HB\"):\n",
        "      print(\"You have ordered Hyderabai Biryani!\");\n",
        "    else:\n",
        "      print(\"ENTER VALID VALUE!\");\n",
        "  else:\n",
        "    print(\"ENTER VALID VALUE!\");\n",
        "else:\n",
        "   print(\"ENTER VALID VALUE!\");\n",
        "print(\"\\nTHANK YOU !!\")"
      ]
    }
  ]
}